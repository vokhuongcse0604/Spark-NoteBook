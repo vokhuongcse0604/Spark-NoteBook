{
 "cells": [
  {
   "cell_type": "markdown",
   "metadata": {},
   "source": [
    "<h1 align = \"center\"> Spark Fundamentals 1 - Introduction to Spark</h1>\n",
    "<h2 align = \"center\"> Getting Started</h2>\n",
    "<h4 align = \"center\"> January 11, 2016 </h4>\n",
    "<br align = \"left\">\n",
    "\n",
    "**Related free online courses:**  \n",
    "- [Spark Fundamentals II](http://bigdatauniversity.com/bdu-wp/bdu-course/spark-fundamentals-ii/)  \n",
    "- [Data Analysis using R](https://bigdatauniversity.com/bdu-wp/bdu-course/introduction-to-data-analysis-using-r/)  \n",
    "- [Big Data Fundamentals](http://bigdatauniversity.com/bdu-wp/bdu-course/big-data-fundamentals/)  \n",
    "\n",
    "<img src = \"http://spark.apache.org/images/spark-logo.png\", height = 100, align = 'left'>\n",
    "<img src = \"https://upload.wikimedia.org/wikipedia/commons/f/f8/Python_logo_and_wordmark.svg\", height = 95, align = 'left'>\n",
    "<img src = \"https://upload.wikimedia.org/wikipedia/en/8/85/Scala_logo.png\", height = 85, align = 'left'>"
   ]
  },
  {
   "cell_type": "markdown",
   "metadata": {},
   "source": [
    "## Welcome to Spark Fundamentals - Introduction to Spark. Spark is built around speed and the ease of use. In these labs you will see for yourself how easy it is to get started using Spark. \n",
    "\n",
    "Spark’s primary abstraction is a distributed collection of items called a Resilient Distributed Dataset or RDD. In a subsequent lab exercise, you will learn more about the details of RDD. RDDs have actions, which return values, and transformations, which return pointers to new RDD.\n",
    "\n",
    "This set of labs uses Data Scientist Workbench to provide an interactive environment to develop applications and analyze data. It is available in either Scala or Python shells. Scala runs on the Java VM and is thus a good way to use existing Java libraries. In this lab exercise, we will set up our environment in preparation for the later labs.\n",
    "After completing this set of hands-on labs, you should be able to:\n",
    "\n",
    "o Start the Spark shell with Scala and Python\n",
    "\n",
    "o Perform basic RDD actions and transformations\n",
    "\n",
    "o Use caching to speed up repeated operations\n",
    "\n",
    "\n",
    "### Using this notebook - Please ensure you have viewed the Data Scientist Workbench tutorial on the Big Data University before proceeding. \n",
    "\n",
    "This is an interactive environment where you can show your code through cells, and documentation through markdown.\n",
    "\n",
    "Look at the top right corner. Do you see \"Python 2\"? This indicates that you are running Python in this notebook.\n",
    "\n",
    "**To run a cell:** Ctrl + Enter\n",
    "\n",
    "**To run a cell and go to the next cell:** Shift + Enter\n",
    "\n",
    "###Try creating a new cell below.\n",
    "\n",
    "**To create a new cell:** In the menu, go to _\"Insert\" > \"Insert Cell Below\"_. Or, click outside of a cell, and press \"a\" (insert cell above) or \"b\" (insert cell below)."
   ]
  },
  {
   "cell_type": "markdown",
   "metadata": {},
   "source": [
    "# Lab Setup\n",
    "\n",
    "Run the following cells to get the lab data."
   ]
  },
  {
   "cell_type": "code",
   "execution_count": null,
   "metadata": {
    "collapsed": false
   },
   "outputs": [],
   "source": [
    "!wget https://ibm.box.com/shared/static/1c65hfqjxyxpdkts42oab8i8mzxbpvc8.zip"
   ]
  },
  {
   "cell_type": "code",
   "execution_count": null,
   "metadata": {
    "collapsed": false
   },
   "outputs": [],
   "source": [
    "!unzip -o -d /resources 1c65hfqjxyxpdkts42oab8i8mzxbpvc8.zip"
   ]
  },
  {
   "cell_type": "code",
   "execution_count": null,
   "metadata": {
    "collapsed": false
   },
   "outputs": [],
   "source": [
    "!ls -1 /resources/LabData/"
   ]
  },
  {
   "cell_type": "markdown",
   "metadata": {},
   "source": [
    "Should have:\n",
    "    \n",
    "* followers.txt\n",
    "* notebook.log\n",
    "* nyctaxi100.csv\n",
    "* nyctaxi.csv\n",
    "* nyctaxisub.csv\n",
    "* nycweather.csv\n",
    "* pom.xml\n",
    "* README.md\n",
    "* taxistreams.py\n",
    "* users.txt"
   ]
  },
  {
   "cell_type": "markdown",
   "metadata": {},
   "source": [
    "### Starting with Spark\n",
    "\n",
    "The notebooks provide code assist. For example, type in \"sc.\" followed by the Tab key to get the list of options associated with the spark context:"
   ]
  },
  {
   "cell_type": "code",
   "execution_count": null,
   "metadata": {
    "collapsed": false
   },
   "outputs": [],
   "source": [
    "sc.\n"
   ]
  },
  {
   "cell_type": "markdown",
   "metadata": {},
   "source": [
    "To run a command as code, simple select the cell you want to run and either:\n",
    "\n",
    "* Click the play button in the toolbar above\n",
    "* Press \"_Shift+Enter_\"\n",
    "\n",
    "Let's run a basic command and check the version of Spark running:"
   ]
  },
  {
   "cell_type": "code",
   "execution_count": null,
   "metadata": {
    "collapsed": false
   },
   "outputs": [],
   "source": [
    "sc.version"
   ]
  },
  {
   "cell_type": "markdown",
   "metadata": {},
   "source": [
    "You can get files into your workbench in three ways:\n",
    "\n",
    "1. Drag and drop a file from your file explorer onto the browser. This will upload the file to your workbench.\n",
    "2. Enter the url of a file on the internet into the text field in the upper right of the screen.\n",
    "3. Run code (such as wget) to download a file into your notebook."
   ]
  },
  {
   "cell_type": "markdown",
   "metadata": {},
   "source": [
    "Download the following file by pasting the link in the search field at the top right of the page and pressing ENTER:\n",
    "\n",
    "https://raw.githubusercontent.com/apache/spark/master/README.md\n",
    "\n",
    "You should see the file show up in _Recent Data_. Since this file is contained in the zip file you should see it named as README0.md. You can delete this file now by clicking the twistie on README0.md and choosing delete.\n",
    "\n",
    "Highlight the text string between the double quotes in the cell below then, click the twistie next to the \"README.md\" in _Recent Data_ and select _Insert Path_ to paste the path below. Then, run the code in the cell.\n"
   ]
  },
  {
   "cell_type": "code",
   "execution_count": null,
   "metadata": {
    "collapsed": false
   },
   "outputs": [],
   "source": [
    "readme = sc.textFile(\"/resources/LabData/README.md\")"
   ]
  },
  {
   "cell_type": "markdown",
   "metadata": {},
   "source": [
    "Let’s perform some RDD actions on this text file. Count the number of items in the RDD using this command:"
   ]
  },
  {
   "cell_type": "code",
   "execution_count": null,
   "metadata": {
    "collapsed": false
   },
   "outputs": [],
   "source": [
    "readme.count()"
   ]
  },
  {
   "cell_type": "markdown",
   "metadata": {},
   "source": [
    "You should see that this RDD action returned a value of 98.\n",
    "\n",
    "Let’s run another action. Run this command to find the first item in the RDD:"
   ]
  },
  {
   "cell_type": "code",
   "execution_count": null,
   "metadata": {
    "collapsed": false
   },
   "outputs": [],
   "source": [
    "readme.first()"
   ]
  },
  {
   "cell_type": "markdown",
   "metadata": {},
   "source": [
    "Now let’s try a transformation. Use the filter transformation to return a new RDD with a subset of the items in the file. Type in this command:"
   ]
  },
  {
   "cell_type": "code",
   "execution_count": null,
   "metadata": {
    "collapsed": false
   },
   "outputs": [],
   "source": [
    "linesWithSpark = readme.filter(lambda line: \"Spark\" in line)"
   ]
  },
  {
   "cell_type": "markdown",
   "metadata": {},
   "source": [
    "You can even chain together transformations and actions. To find out how many lines contains the word “Spark”, type in:"
   ]
  },
  {
   "cell_type": "code",
   "execution_count": null,
   "metadata": {
    "collapsed": false
   },
   "outputs": [],
   "source": [
    "linesWithSpark = readme.filter(lambda line: \"Spark\" in line)\n",
    "readme.filter(lambda line: \"Spark\" in line).count()"
   ]
  },
  {
   "cell_type": "markdown",
   "metadata": {},
   "source": [
    "# More on RDD Operations\n",
    "\n",
    "This section builds upon the previous section. In this section, you will see that RDD can be used for more complex computations. You will find the line from that readme file with the most words in it.\n",
    "\n",
    "Run the following cell."
   ]
  },
  {
   "cell_type": "code",
   "execution_count": null,
   "metadata": {
    "collapsed": false
   },
   "outputs": [],
   "source": [
    "readme.map(lambda line: len(line.split())).reduce(lambda a, b: a if (a > b) else b)"
   ]
  },
  {
   "cell_type": "markdown",
   "metadata": {},
   "source": [
    "There are two parts to this. The first maps a line to an integer value, the number of words in that line. In the second part reduce is called to find the line with the most words in it. The arguments to map and reduce are Python anonymous functions (lambdas), but you can use any top level Python functions. In the next step, you’ll define a max function to illustrate this feature.\n",
    "\n",
    "Define the max function. You will need to type this in:"
   ]
  },
  {
   "cell_type": "code",
   "execution_count": null,
   "metadata": {
    "collapsed": false
   },
   "outputs": [],
   "source": [
    "def max(a, b):\n",
    " if a > b:\n",
    "    return a\n",
    " else:\n",
    "    return b\n"
   ]
  },
  {
   "cell_type": "markdown",
   "metadata": {},
   "source": [
    "Now run the following with the max function:"
   ]
  },
  {
   "cell_type": "code",
   "execution_count": null,
   "metadata": {
    "collapsed": false
   },
   "outputs": [],
   "source": [
    "readme.map(lambda line: len(line.split())).reduce(max)"
   ]
  },
  {
   "cell_type": "markdown",
   "metadata": {},
   "source": [
    "Spark has a MapReduce data flow pattern. We can use this to do a word count on the readme file."
   ]
  },
  {
   "cell_type": "code",
   "execution_count": null,
   "metadata": {
    "collapsed": false
   },
   "outputs": [],
   "source": [
    "wordCounts = readme.flatMap(lambda line: line.split()).map(lambda word: (word, 1)).reduceByKey(lambda a, b: a+b)"
   ]
  },
  {
   "cell_type": "markdown",
   "metadata": {},
   "source": [
    "Here we combined the flatMap, map, and the reduceByKey functions to do a word count of each word in the readme file.\n",
    "\n",
    "To collect the word counts, use the collect action.\n",
    "\n",
    "####It should be noted that the collect function brings all of the data into the driver node. For a small dataset, this is acceptable but, for a large dataset this can cause an Out Of Memory error. It is recommended to use collect() for testing only. The safer approach is to use the take() function e.g. print take(n)"
   ]
  },
  {
   "cell_type": "code",
   "execution_count": null,
   "metadata": {
    "collapsed": false
   },
   "outputs": [],
   "source": [
    "wordCounts.collect()"
   ]
  },
  {
   "cell_type": "markdown",
   "metadata": {},
   "source": [
    "### <span style=\"color: red\">YOUR TURN:</span> \n",
    "\n",
    "#### In the cell below, determine what is the most frequent word in the README, and how many times was it used?"
   ]
  },
  {
   "cell_type": "code",
   "execution_count": null,
   "metadata": {
    "collapsed": false
   },
   "outputs": [],
   "source": [
    "#YOUR CODE BELOW"
   ]
  },
  {
   "cell_type": "markdown",
   "metadata": {
    "collapsed": false
   },
   "source": [
    "Highlight text field for answer:\n",
    "\n",
    "<input type=\"text\" size=\"80\" value=\"wordCounts.reduce(lambda a, b: a if (a[1] > b[1]) else b)\" style=\"color: white\">"
   ]
  },
  {
   "cell_type": "markdown",
   "metadata": {},
   "source": [
    "## Using Spark caching\n",
    "\n",
    "In this short section, you’ll see how Spark caching can be used to pull data sets into a cluster-wide in- memory cache. This is very useful for accessing repeated data, such as querying a small “hot” dataset or when running an iterative algorithm. Both Python and Scala use the same commands.\n",
    "\n",
    "As a simple example, let’s mark our linesWithSpark dataset to be cached and then invoke the first count operation to tell Spark to cache it. Remember that transformation operations such as cache does not get processed until some action like count() is called. Once you run the second count() operation, you should notice a small increase in speed.\n"
   ]
  },
  {
   "cell_type": "code",
   "execution_count": null,
   "metadata": {
    "collapsed": false
   },
   "outputs": [],
   "source": [
    "print linesWithSpark.count()"
   ]
  },
  {
   "cell_type": "code",
   "execution_count": null,
   "metadata": {
    "collapsed": false
   },
   "outputs": [],
   "source": [
    "from timeit import Timer\n",
    "def count():\n",
    "    return linesWithSpark.count()\n",
    "t = Timer(lambda: count())"
   ]
  },
  {
   "cell_type": "code",
   "execution_count": null,
   "metadata": {
    "collapsed": false
   },
   "outputs": [],
   "source": [
    "print t.timeit(number=50)"
   ]
  },
  {
   "cell_type": "code",
   "execution_count": null,
   "metadata": {
    "collapsed": false
   },
   "outputs": [],
   "source": [
    "linesWithSpark.cache()\n",
    "print t.timeit(number=50)"
   ]
  },
  {
   "cell_type": "markdown",
   "metadata": {},
   "source": [
    "It may seem silly to cache such a small file, but for larger data sets across tens or hundreds of nodes, this would still work. The second linesWithSpark.count() action runs against the cache and would perform significantly better for large datasets.\n",
    "\n",
    "###Summary\n",
    "Having completed this exercise, you should now be able to log in to your environment and use the Spark shell to run simple actions and transformations for Scala and/or Python. You understand that Spark caching can be used to cache large datasets and subsequent operations on it will utilize the data in the cache rather than re-fetching it from HDFS."
   ]
  },
  {
   "cell_type": "markdown",
   "metadata": {},
   "source": [
    "The next labs will show you RDD operation in more detail. The labs are available in both Scala and Python, you can do either or both. \n",
    "\n",
    "<h1 align=\"center\" style=\"font-family: Monaco;\">Continue on \"[Spark Fundamentals 1 - PythonRDD.ipynb](/api/v1/resources/Spark%20Fundamentals%201%20-%20PythonRDD.ipynb)\"</h1>\n",
    "<h1 align=\"center\" style=\"font-family: Monaco;\">Continue on \"[Spark Fundamentals 1 - ScalaRDD.ipynb](/api/v1/resources/Spark%20Fundamentals%201%20-%20ScalaRDD.ipynb)\"</h1>\n"
   ]
  }
 ],
 "metadata": {
  "kernelspec": {
   "display_name": "Python 2",
   "language": "python",
   "name": "python2"
  },
  "language_info": {
   "codemirror_mode": {
    "name": "ipython",
    "version": 2
   },
   "file_extension": ".py",
   "mimetype": "text/x-python",
   "name": "python",
   "nbconvert_exporter": "python",
   "pygments_lexer": "ipython2",
   "version": "2.7.11"
  }
 },
 "nbformat": 4,
 "nbformat_minor": 0
}
